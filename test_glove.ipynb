{
 "cells": [
  {
   "cell_type": "code",
   "execution_count": 7,
   "metadata": {},
   "outputs": [
    {
     "name": "stderr",
     "output_type": "stream",
     "text": [
      "/Users/ritikojha/Library/Python/3.9/lib/python/site-packages/pandas/_libs/tslibs/__init__.py:40: RuntimeWarning: coroutine 'Translator.detect' was never awaited\n",
      "  from pandas._libs.tslibs.conversion import localize_pydatetime\n",
      "RuntimeWarning: Enable tracemalloc to get the object allocation traceback\n",
      "/Users/ritikojha/Library/Python/3.9/lib/python/site-packages/tqdm/auto.py:21: TqdmWarning: IProgress not found. Please update jupyter and ipywidgets. See https://ipywidgets.readthedocs.io/en/stable/user_install.html\n",
      "  from .autonotebook import tqdm as notebook_tqdm\n"
     ]
    },
    {
     "name": "stdout",
     "output_type": "stream",
     "text": [
      "Cleaned subset shape: (483348, 2)\n",
      "Subset shape: (483348, 2)\n"
     ]
    }
   ],
   "source": [
    "from datasets import load_dataset\n",
    "import pandas as pd\n",
    "import numpy as  np\n",
    "import re\n",
    "\n",
    "# Load the dataset and select the first 100,000 rows, then take a subset of 1,000\n",
    "ds = load_dataset(\"MohammadOthman/mo-customer-support-tweets-945k\")\n",
    "data = ds['train'].select(range(500000)).to_pandas()\n",
    "# data_subset = data.head(1000)  # Subset for demonstration\n",
    "data_subset = data\n",
    "\n",
    "####################################\n",
    "# Drop rows with NaN values in 'input' or 'output'\n",
    "data_subset.dropna(subset=['input', 'output'], inplace=True)\n",
    "\n",
    "# Drop rows with empty strings or only one word in either 'input' or 'output'\n",
    "def is_valid(text):\n",
    "    return isinstance(text, str) and len(text.strip().split()) > 1\n",
    "\n",
    "data_subset = data_subset[data_subset['input'].apply(is_valid)]\n",
    "data_subset = data_subset[data_subset['output'].apply(is_valid)]\n",
    "\n",
    "# Reset index after filtering\n",
    "data_subset.reset_index(drop=True, inplace=True)\n",
    "\n",
    "print(\"Cleaned subset shape:\", data_subset.shape)\n",
    "############################################################\n",
    "\n",
    "\n",
    "# Preprocess text: lowercase and remove special characters\n",
    "def preprocess_text(text):\n",
    "    if not isinstance(text, str):  # Handle non-string inputs\n",
    "        return \"\"\n",
    "    text = text.lower()\n",
    "    text = re.sub(r'[^a-zA-Z0-9\\s]', '', text)\n",
    "    return text.strip()\n",
    "\n",
    "# Apply preprocessing to input and output columns\n",
    "data_subset['input'] = data_subset['input'].apply(preprocess_text)\n",
    "data_subset['output'] = data_subset['output'].apply(preprocess_text)\n",
    "\n",
    "print(\"Subset shape:\", data_subset.shape)"
   ]
  },
  {
   "cell_type": "code",
   "execution_count": 5,
   "metadata": {},
   "outputs": [
    {
     "name": "stdout",
     "output_type": "stream",
     "text": [
      "Defaulting to user installation because normal site-packages is not writeable\n",
      "Collecting deep-translator\n",
      "  Downloading deep_translator-1.11.4-py3-none-any.whl.metadata (30 kB)\n",
      "Requirement already satisfied: beautifulsoup4<5.0.0,>=4.9.1 in /Users/ritikojha/Library/Python/3.9/lib/python/site-packages (from deep-translator) (4.13.3)\n",
      "Requirement already satisfied: requests<3.0.0,>=2.23.0 in /Users/ritikojha/Library/Python/3.9/lib/python/site-packages (from deep-translator) (2.32.3)\n",
      "Requirement already satisfied: soupsieve>1.2 in /Users/ritikojha/Library/Python/3.9/lib/python/site-packages (from beautifulsoup4<5.0.0,>=4.9.1->deep-translator) (2.6)\n",
      "Requirement already satisfied: typing-extensions>=4.0.0 in /Users/ritikojha/Library/Python/3.9/lib/python/site-packages (from beautifulsoup4<5.0.0,>=4.9.1->deep-translator) (4.12.2)\n",
      "Requirement already satisfied: charset-normalizer<4,>=2 in /Users/ritikojha/Library/Python/3.9/lib/python/site-packages (from requests<3.0.0,>=2.23.0->deep-translator) (3.4.0)\n",
      "Requirement already satisfied: idna<4,>=2.5 in /Users/ritikojha/Library/Python/3.9/lib/python/site-packages (from requests<3.0.0,>=2.23.0->deep-translator) (3.10)\n",
      "Requirement already satisfied: urllib3<3,>=1.21.1 in /Users/ritikojha/Library/Python/3.9/lib/python/site-packages (from requests<3.0.0,>=2.23.0->deep-translator) (2.2.3)\n",
      "Requirement already satisfied: certifi>=2017.4.17 in /Users/ritikojha/Library/Python/3.9/lib/python/site-packages (from requests<3.0.0,>=2.23.0->deep-translator) (2024.8.30)\n",
      "Downloading deep_translator-1.11.4-py3-none-any.whl (42 kB)\n",
      "Installing collected packages: deep-translator\n",
      "Successfully installed deep-translator-1.11.4\n",
      "\n",
      "\u001b[1m[\u001b[0m\u001b[34;49mnotice\u001b[0m\u001b[1;39;49m]\u001b[0m\u001b[39;49m A new release of pip is available: \u001b[0m\u001b[31;49m25.0.1\u001b[0m\u001b[39;49m -> \u001b[0m\u001b[32;49m25.1\u001b[0m\n",
      "\u001b[1m[\u001b[0m\u001b[34;49mnotice\u001b[0m\u001b[1;39;49m]\u001b[0m\u001b[39;49m To update, run: \u001b[0m\u001b[32;49m/Library/Developer/CommandLineTools/usr/bin/python3 -m pip install --upgrade pip\u001b[0m\n",
      "Note: you may need to restart the kernel to use updated packages.\n"
     ]
    }
   ],
   "source": [
    "pip install deep-translator\n"
   ]
  },
  {
   "cell_type": "code",
   "execution_count": 6,
   "metadata": {},
   "outputs": [
    {
     "name": "stderr",
     "output_type": "stream",
     "text": [
      "/Users/ritikojha/Library/Python/3.9/lib/python/site-packages/urllib3/__init__.py:35: NotOpenSSLWarning: urllib3 v2 only supports OpenSSL 1.1.1+, currently the 'ssl' module is compiled with 'LibreSSL 2.8.3'. See: https://github.com/urllib3/urllib3/issues/3020\n",
      "  warnings.warn(\n"
     ]
    },
    {
     "name": "stdout",
     "output_type": "stream",
     "text": [
      "Original text: Hola, ¿cómo estás?\n",
      "Translated text: Hello how are you?\n",
      "Original text: Hello, how are you?\n",
      "Translated text: Hello, how are you?\n"
     ]
    }
   ],
   "source": [
    "from deep_translator import GoogleTranslator\n",
    "\n",
    "def translate_spanish_to_english(text):\n",
    "    try:\n",
    "        # Try to translate assuming it's Spanish; if it's already English, the output will match the input\n",
    "        translated = GoogleTranslator(source='auto', target='en').translate(text)\n",
    "        return translated\n",
    "    except Exception as e:\n",
    "        return f\"Translation error: {e}\"\n",
    "\n",
    "# Example usage\n",
    "spanish_text = \"Hola, ¿cómo estás?\"\n",
    "english_text = translate_spanish_to_english(spanish_text)\n",
    "print(f\"Original text: {spanish_text}\")\n",
    "print(f\"Translated text: {english_text}\")\n",
    "\n",
    "english_text_2 = \"Hello, how are you?\"\n",
    "translated_text_2 = translate_spanish_to_english(english_text_2)\n",
    "print(f\"Original text: {english_text_2}\")\n",
    "print(f\"Translated text: {translated_text_2}\")\n"
   ]
  },
  {
   "cell_type": "code",
   "execution_count": null,
   "metadata": {},
   "outputs": [],
   "source": []
  },
  {
   "cell_type": "code",
   "execution_count": 8,
   "metadata": {},
   "outputs": [],
   "source": [
    "data_subset['conversation'] = data['input'] + data['output']"
   ]
  },
  {
   "cell_type": "code",
   "execution_count": 11,
   "metadata": {},
   "outputs": [
    {
     "name": "stdout",
     "output_type": "stream",
     "text": [
      "Defaulting to user installation because normal site-packages is not writeable\n",
      "Collecting langdetect\n",
      "  Downloading langdetect-1.0.9.tar.gz (981 kB)\n",
      "\u001b[2K     \u001b[90m━━━━━━━━━━━━━━━━━━━━━━━━━━━━━━━━━━━━━━\u001b[0m \u001b[32m981.5/981.5 kB\u001b[0m \u001b[31m37.5 MB/s\u001b[0m eta \u001b[36m0:00:00\u001b[0m\n",
      "\u001b[?25h  Preparing metadata (setup.py) ... \u001b[?25ldone\n",
      "\u001b[?25hRequirement already satisfied: six in /Library/Developer/CommandLineTools/Library/Frameworks/Python3.framework/Versions/3.9/lib/python3.9/site-packages (from langdetect) (1.15.0)\n",
      "Building wheels for collected packages: langdetect\n",
      "  Building wheel for langdetect (setup.py) ... \u001b[?25ldone\n",
      "\u001b[?25h  Created wheel for langdetect: filename=langdetect-1.0.9-py3-none-any.whl size=993242 sha256=9879c63eba16363bb5cd2b531c18cee92834262e0911a8f83cf59aa76ebee327\n",
      "  Stored in directory: /Users/ritikojha/Library/Caches/pip/wheels/d1/c1/d9/7e068de779d863bc8f8fc9467d85e25cfe47fa5051fff1a1bb\n",
      "Successfully built langdetect\n",
      "Installing collected packages: langdetect\n",
      "Successfully installed langdetect-1.0.9\n",
      "\n",
      "\u001b[1m[\u001b[0m\u001b[34;49mnotice\u001b[0m\u001b[1;39;49m]\u001b[0m\u001b[39;49m A new release of pip is available: \u001b[0m\u001b[31;49m25.0.1\u001b[0m\u001b[39;49m -> \u001b[0m\u001b[32;49m25.1\u001b[0m\n",
      "\u001b[1m[\u001b[0m\u001b[34;49mnotice\u001b[0m\u001b[1;39;49m]\u001b[0m\u001b[39;49m To update, run: \u001b[0m\u001b[32;49m/Library/Developer/CommandLineTools/usr/bin/python3 -m pip install --upgrade pip\u001b[0m\n",
      "Note: you may need to restart the kernel to use updated packages.\n"
     ]
    }
   ],
   "source": [
    "pip install langdetect"
   ]
  },
  {
   "cell_type": "code",
   "execution_count": 10,
   "metadata": {},
   "outputs": [
    {
     "name": "stderr",
     "output_type": "stream",
     "text": [
      "/Library/Developer/CommandLineTools/Library/Frameworks/Python3.framework/Versions/3.9/lib/python3.9/re.py:275: RuntimeWarning: coroutine 'Translator.detect' was never awaited\n",
      "  return pattern.translate(_special_chars_map)\n",
      "RuntimeWarning: Enable tracemalloc to get the object allocation traceback\n"
     ]
    },
    {
     "ename": "ModuleNotFoundError",
     "evalue": "No module named 'langdetect'",
     "output_type": "error",
     "traceback": [
      "\u001b[0;31m---------------------------------------------------------------------------\u001b[0m",
      "\u001b[0;31mModuleNotFoundError\u001b[0m                       Traceback (most recent call last)",
      "Cell \u001b[0;32mIn[10], line 1\u001b[0m\n\u001b[0;32m----> 1\u001b[0m \u001b[38;5;28;01mfrom\u001b[39;00m \u001b[38;5;21;01mlangdetect\u001b[39;00m \u001b[38;5;28;01mimport\u001b[39;00m detect, DetectorFactory\n\u001b[1;32m      2\u001b[0m \u001b[38;5;28;01mfrom\u001b[39;00m \u001b[38;5;21;01mlangdetect\u001b[39;00m\u001b[38;5;21;01m.\u001b[39;00m\u001b[38;5;21;01mlang_detect_exception\u001b[39;00m \u001b[38;5;28;01mimport\u001b[39;00m LangDetectException\n\u001b[1;32m      4\u001b[0m \u001b[38;5;66;03m# Ensures consistent results\u001b[39;00m\n",
      "\u001b[0;31mModuleNotFoundError\u001b[0m: No module named 'langdetect'"
     ]
    }
   ],
   "source": [
    "from langdetect import detect, DetectorFactory\n",
    "from langdetect.lang_detect_exception import LangDetectException\n",
    "\n",
    "# Ensures consistent results\n",
    "DetectorFactory.seed = 0"
   ]
  },
  {
   "cell_type": "code",
   "execution_count": null,
   "metadata": {},
   "outputs": [],
   "source": [
    "def is_english(text):\n",
    "    try:\n",
    "        return detect(text) == 'en'\n",
    "    except LangDetectException:\n",
    "        return False  # Return False if text is too short or can't be detected\n",
    "\n",
    "# Apply the function and filter the DataFrame\n",
    "df_filtered = df[df['text'].apply(is_english)].reset_index(drop=True)\n",
    "\n",
    "print(df_filtered)"
   ]
  },
  {
   "cell_type": "code",
   "execution_count": 9,
   "metadata": {},
   "outputs": [
    {
     "data": {
      "text/plain": [
       "(483348, 100)"
      ]
     },
     "execution_count": 9,
     "metadata": {},
     "output_type": "execute_result"
    }
   ],
   "source": [
    "# Step 3: Load GloVe embeddings and compute sentence embeddings\n",
    "import os\n",
    "import urllib.request\n",
    "import zipfile\n",
    "from sklearn.feature_extraction.text import CountVectorizer\n",
    "\n",
    "# Download GloVe if not already present\n",
    "glove_path = \"glove.6B.100d.txt\"\n",
    "if not os.path.exists(glove_path):\n",
    "    url = \"http://nlp.stanford.edu/data/glove.6B.zip\"\n",
    "    urllib.request.urlretrieve(url, \"glove.6B.zip\")\n",
    "    with zipfile.ZipFile(\"glove.6B.zip\", 'r') as zip_ref:\n",
    "        zip_ref.extract(\"glove.6B.100d.txt\")\n",
    "\n",
    "# Load GloVe vectors into a dictionary\n",
    "glove_embeddings = {}\n",
    "with open(glove_path, 'r', encoding='utf8') as f:\n",
    "    for line in f:\n",
    "        values = line.strip().split()\n",
    "        word = values[0]\n",
    "        vector = np.asarray(values[1:], dtype='float32')\n",
    "        glove_embeddings[word] = vector\n",
    "\n",
    "# Helper function to average GloVe vectors for a sentence\n",
    "def get_sentence_embedding(text, embeddings, dim=100):\n",
    "    words = text.split()\n",
    "    vectors = [embeddings[word] for word in words if word in embeddings]\n",
    "    if vectors:\n",
    "        return np.mean(vectors, axis=0)\n",
    "    else:\n",
    "        return np.zeros(dim)\n",
    "\n",
    "# Compute embeddings for the mock data\n",
    "data_subset['embedding'] = data_subset['conversation'].apply(lambda x: get_sentence_embedding(x, glove_embeddings))\n",
    "\n",
    "# Stack embeddings into a matrix\n",
    "embedding_matrix = np.vstack(data_subset['embedding'].values)\n",
    "\n",
    "embedding_matrix.shape\n"
   ]
  },
  {
   "cell_type": "code",
   "execution_count": 17,
   "metadata": {},
   "outputs": [],
   "source": [
    "from sklearn.preprocessing import normalize\n",
    "from sklearn.manifold import TSNE\n",
    "import matplotlib.pyplot as plt\n",
    "\n",
    "# Assume embeddings_matrix is your array of word embeddings\n",
    "embeddings_matrix = normalize(embedding_matrix, norm='l2')"
   ]
  },
  {
   "cell_type": "code",
   "execution_count": 18,
   "metadata": {},
   "outputs": [
    {
     "name": "stderr",
     "output_type": "stream",
     "text": [
      "/Users/ritikojha/Library/Python/3.9/lib/python/site-packages/umap/umap_.py:1952: UserWarning: n_jobs value 1 overridden to 1 by setting random_state. Use no seed for parallelism.\n",
      "  warn(\n"
     ]
    },
    {
     "name": "stdout",
     "output_type": "stream",
     "text": [
      "UMAP reduced shape: (96391, 50)\n"
     ]
    }
   ],
   "source": [
    "import umap\n",
    "\n",
    "# Reduce to 50 dimensions with UMAP\n",
    "umap_reducer = umap.UMAP(n_components=50, random_state=42, n_neighbors=15, min_dist=0.1)\n",
    "reduced_embeddings_umap = umap_reducer.fit_transform(embeddings_matrix)\n",
    "\n",
    "print(\"UMAP reduced shape:\", reduced_embeddings_umap.shape)"
   ]
  },
  {
   "cell_type": "code",
   "execution_count": 19,
   "metadata": {},
   "outputs": [
    {
     "name": "stdout",
     "output_type": "stream",
     "text": [
      "SVD reduced shape: (96391, 50)\n"
     ]
    }
   ],
   "source": [
    "from sklearn.decomposition import TruncatedSVD\n",
    "\n",
    "# Reduce to 50 dimensions with SVD\n",
    "svd = TruncatedSVD(n_components=50, random_state=42)\n",
    "reduced_embeddings_svd = svd.fit_transform(embeddings_matrix)\n",
    "\n",
    "print(\"SVD reduced shape:\", reduced_embeddings_svd.shape)"
   ]
  },
  {
   "cell_type": "code",
   "execution_count": 20,
   "metadata": {},
   "outputs": [],
   "source": [
    "from sklearn.manifold import TSNE\n",
    "tsne = TSNE(n_components=3, random_state=42, perplexity=5, init='pca')\n",
    "reduced_embeddings_tsne = tsne.fit_transform(embeddings_matrix)\n"
   ]
  },
  {
   "cell_type": "code",
   "execution_count": 21,
   "metadata": {},
   "outputs": [],
   "source": [
    "from sklearn.cluster import MiniBatchKMeans\n",
    "\n",
    "# On UMAP-reduced data\n",
    "minibatch_kmeans_umap = MiniBatchKMeans(n_clusters=4, random_state=42, batch_size=100)\n",
    "clusters_minibatch_umap = minibatch_kmeans_umap.fit_predict(reduced_embeddings_umap)\n",
    "\n",
    "# On SVD-reduced data\n",
    "minibatch_kmeans_svd = MiniBatchKMeans(n_clusters=4, random_state=42, batch_size=100)\n",
    "clusters_minibatch_svd = minibatch_kmeans_svd.fit_predict(reduced_embeddings_svd)\n",
    "\n",
    "minibatch_kmeans_tsne = MiniBatchKMeans(n_clusters=4, random_state=42, batch_size=100)\n",
    "clusters_minibatch_tsne = minibatch_kmeans_tsne.fit_predict(reduced_embeddings_tsne)"
   ]
  },
  {
   "cell_type": "code",
   "execution_count": 22,
   "metadata": {},
   "outputs": [
    {
     "ename": "",
     "evalue": "",
     "output_type": "error",
     "traceback": [
      "\u001b[1;31mThe Kernel crashed while executing code in the current cell or a previous cell. \n",
      "\u001b[1;31mPlease review the code in the cell(s) to identify a possible cause of the failure. \n",
      "\u001b[1;31mClick <a href='https://aka.ms/vscodeJupyterKernelCrash'>here</a> for more info. \n",
      "\u001b[1;31mView Jupyter <a href='command:jupyter.viewOutput'>log</a> for further details."
     ]
    }
   ],
   "source": [
    "from sklearn.cluster import KMeans\n",
    "\n",
    "# On UMAP-reduced data\n",
    "kmeans_umap = KMeans(n_clusters=4, random_state=42)\n",
    "clusters_kmeans_umap = kmeans_umap.fit_predict(reduced_embeddings_umap)\n",
    "\n",
    "# On SVD-reduced data\n",
    "kmeans_svd = KMeans(n_clusters=4, random_state=42)\n",
    "clusters_kmeans_svd = kmeans_svd.fit_predict(reduced_embeddings_svd)\n",
    "\n",
    "# On tsne-reduced data\n",
    "kmeans_tsne = KMeans(n_clusters=4, random_state=42)\n",
    "clusters_kmeans_tsne = kmeans_tsne.fit_predict(reduced_embeddings_tsne)\n",
    "\n"
   ]
  },
  {
   "cell_type": "code",
   "execution_count": null,
   "metadata": {},
   "outputs": [],
   "source": []
  },
  {
   "cell_type": "code",
   "execution_count": 23,
   "metadata": {},
   "outputs": [],
   "source": [
    "from sklearn.cluster import DBSCAN\n",
    "\n",
    "# On UMAP-reduced data\n",
    "dbscan_umap = DBSCAN(eps=0.5, min_samples=5)\n",
    "clusters_dbscan_umap = dbscan_umap.fit_predict(reduced_embeddings_umap)\n",
    "\n",
    "# On SVD-reduced data\n",
    "dbscan_svd = DBSCAN(eps=0.5, min_samples=5)\n",
    "clusters_dbscan_svd = dbscan_svd.fit_predict(reduced_embeddings_svd)\n",
    "\n",
    "dbscan_tsne = DBSCAN(eps=0.5, min_samples=5)\n",
    "clusters_dbscan_tsne = dbscan_tsne.fit_predict(reduced_embeddings_tsne)"
   ]
  },
  {
   "cell_type": "code",
   "execution_count": 4,
   "metadata": {},
   "outputs": [
    {
     "ename": "NameError",
     "evalue": "name 'reduced_embeddings_svd' is not defined",
     "output_type": "error",
     "traceback": [
      "\u001b[0;31m---------------------------------------------------------------------------\u001b[0m",
      "\u001b[0;31mNameError\u001b[0m                                 Traceback (most recent call last)",
      "Cell \u001b[0;32mIn[4], line 13\u001b[0m\n\u001b[1;32m      8\u001b[0m     \u001b[38;5;28;01mreturn\u001b[39;00m \u001b[38;5;28;01mNone\u001b[39;00m\n\u001b[1;32m     10\u001b[0m \u001b[38;5;66;03m# Dictionary of methods and their data/labels\u001b[39;00m\n\u001b[1;32m     11\u001b[0m methods \u001b[38;5;241m=\u001b[39m {\n\u001b[1;32m     12\u001b[0m     \u001b[38;5;66;03m# 'Mini-Batch K-Means (UMAP)': (reduced_embeddings_umap, clusters_minibatch_umap),\u001b[39;00m\n\u001b[0;32m---> 13\u001b[0m     \u001b[38;5;124m'\u001b[39m\u001b[38;5;124mMini-Batch K-Means (SVD)\u001b[39m\u001b[38;5;124m'\u001b[39m: (\u001b[43mreduced_embeddings_svd\u001b[49m, clusters_minibatch_svd),\n\u001b[1;32m     14\u001b[0m     \u001b[38;5;124m'\u001b[39m\u001b[38;5;124mMini-Batch K-Means (tsne)\u001b[39m\u001b[38;5;124m'\u001b[39m: (reduced_embeddings_tsne, clusters_minibatch_tsne),\n\u001b[1;32m     15\u001b[0m     \u001b[38;5;66;03m# 'K-Means (UMAP)': (reduced_embeddings_umap, clusters_kmeans_umap),\u001b[39;00m\n\u001b[1;32m     16\u001b[0m     \u001b[38;5;66;03m# 'K-Means (SVD)': (reduced_embeddings_svd, clusters_kmeans_svd),\u001b[39;00m\n\u001b[1;32m     17\u001b[0m     \u001b[38;5;66;03m# 'K-Means (tsne)': (reduced_embeddings_tsne, clusters_kmeans_tsne),\u001b[39;00m\n\u001b[1;32m     18\u001b[0m     \u001b[38;5;124m'\u001b[39m\u001b[38;5;124mDBSCAN (UMAP)\u001b[39m\u001b[38;5;124m'\u001b[39m: (reduced_embeddings_umap, clusters_dbscan_umap),\n\u001b[1;32m     19\u001b[0m     \u001b[38;5;124m'\u001b[39m\u001b[38;5;124mDBSCAN (SVD)\u001b[39m\u001b[38;5;124m'\u001b[39m: (reduced_embeddings_svd, clusters_dbscan_svd),\n\u001b[1;32m     20\u001b[0m     \u001b[38;5;124m'\u001b[39m\u001b[38;5;124mDBSCAN (tsne)\u001b[39m\u001b[38;5;124m'\u001b[39m: (reduced_embeddings_tsne, clusters_dbscan_tsne),\n\u001b[1;32m     21\u001b[0m     \u001b[38;5;66;03m# 'Spectral Clustering (UMAP)': (reduced_embeddings_umap, clusters_spectral_umap),\u001b[39;00m\n\u001b[1;32m     22\u001b[0m     \u001b[38;5;66;03m# 'Spectral Clustering (SVD)': (reduced_embeddings_svd, clusters_spectral_svd)\u001b[39;00m\n\u001b[1;32m     23\u001b[0m }\n\u001b[1;32m     25\u001b[0m \u001b[38;5;66;03m# Compute and print silhouette scores\u001b[39;00m\n\u001b[1;32m     26\u001b[0m \u001b[38;5;28;01mfor\u001b[39;00m method, (data, labels) \u001b[38;5;129;01min\u001b[39;00m methods\u001b[38;5;241m.\u001b[39mitems():\n",
      "\u001b[0;31mNameError\u001b[0m: name 'reduced_embeddings_svd' is not defined"
     ]
    }
   ],
   "source": [
    "from sklearn.metrics import silhouette_score\n",
    "\n",
    "# Function to safely compute silhouette score\n",
    "def compute_silhouette(data, labels):\n",
    "    unique_labels = len(set(labels)) - (1 if -1 in labels else 0)  # Exclude noise for DBSCAN\n",
    "    if unique_labels > 1:  # Need at least 2 clusters for silhouette score\n",
    "        return silhouette_score(data, labels)\n",
    "    return None\n",
    "\n",
    "# Dictionary of methods and their data/labels\n",
    "methods = {\n",
    "    'Mini-Batch K-Means (UMAP)': (reduced_embeddings_umap, clusters_minibatch_umap),\n",
    "    'Mini-Batch K-Means (SVD)': (reduced_embeddings_svd, clusters_minibatch_svd),\n",
    "    'Mini-Batch K-Means (tsne)': (reduced_embeddings_tsne, clusters_minibatch_tsne),\n",
    "    # 'K-Means (UMAP)': (reduced_embeddings_umap, clusters_kmeans_umap),\n",
    "    # 'K-Means (SVD)': (reduced_embeddings_svd, clusters_kmeans_svd),\n",
    "    # 'K-Means (tsne)': (reduced_embeddings_tsne, clusters_kmeans_tsne),\n",
    "    'DBSCAN (UMAP)': (reduced_embeddings_umap, clusters_dbscan_umap),\n",
    "    'DBSCAN (SVD)': (reduced_embeddings_svd, clusters_dbscan_svd),\n",
    "    'DBSCAN (tsne)': (reduced_embeddings_tsne, clusters_dbscan_tsne),\n",
    "    # 'Spectral Clustering (UMAP)': (reduced_embeddings_umap, clusters_spectral_umap),\n",
    "    # 'Spectral Clustering (SVD)': (reduced_embeddings_svd, clusters_spectral_svd)\n",
    "}\n",
    "\n",
    "# Compute and print silhouette scores\n",
    "for method, (data, labels) in methods.items():\n",
    "    score = compute_silhouette(data, labels)\n",
    "    num_clusters = len(set(labels)) - (1 if -1 in labels else 0)\n",
    "    if score is not None:\n",
    "        print(f\"{method}: Silhouette Score = {score:.4f}, Clusters = {num_clusters}\")\n",
    "    else:\n",
    "        print(f\"{method}: Cannot compute silhouette score (Clusters = {num_clusters})\")\n",
    "\n",
    "\n",
    "# cluster 4 results--\n",
    "# Mini-Batch K-Means (UMAP): Silhouette Score = 0.3405, Clusters = 4\n",
    "# Mini-Batch K-Means (SVD): Silhouette Score = 0.0552, Clusters = 4\n",
    "# K-Means (UMAP): Silhouette Score = 0.3405, Clusters = 4\n",
    "# K-Means (SVD): Silhouette Score = 0.0706, Clusters = 4\n",
    "# DBSCAN (UMAP): Silhouette Score = -0.3862, Clusters = 19\n",
    "# DBSCAN (SVD): Silhouette Score = -0.1877, Clusters = 29"
   ]
  },
  {
   "cell_type": "code",
   "execution_count": null,
   "metadata": {},
   "outputs": [],
   "source": []
  },
  {
   "cell_type": "code",
   "execution_count": null,
   "metadata": {},
   "outputs": [],
   "source": []
  },
  {
   "cell_type": "code",
   "execution_count": 6,
   "metadata": {},
   "outputs": [
    {
     "name": "stderr",
     "output_type": "stream",
     "text": [
      "/Users/ritikojha/Library/Python/3.9/lib/python/site-packages/umap/umap_.py:1952: UserWarning: n_jobs value 1 overridden to 1 by setting random_state. Use no seed for parallelism.\n",
      "  warn(\n"
     ]
    },
    {
     "data": {
      "text/plain": [
       "{'kmeans': {'labels': array([0, 0, 1, ..., 1, 0, 2], dtype=int32),\n",
       "  'silhouette': 0.2340988},\n",
       " 'dbscan': {'labels': array([0, 0, 0, ..., 0, 0, 0]), 'silhouette': None}}"
      ]
     },
     "execution_count": 6,
     "metadata": {},
     "output_type": "execute_result"
    }
   ],
   "source": [
    "from sklearn.decomposition import TruncatedSVD\n",
    "from sklearn.manifold import TSNE\n",
    "import umap\n",
    "from sklearn.cluster import MiniBatchKMeans, DBSCAN, SpectralClustering\n",
    "from sklearn.metrics import silhouette_score\n",
    "\n",
    "# Step 4: Simulate GloVe-like embeddings (100d vectors)\n",
    "np.random.seed(42)\n",
    "mock_embeddings = np.random.rand(len(data_subset), 100)\n",
    "\n",
    "# Step 5: Dimensionality reduction\n",
    "# UMAP to 3D\n",
    "umap_3d = umap.UMAP(n_components=3, random_state=42)\n",
    "umap_result = umap_3d.fit_transform(mock_embeddings)\n",
    "\n",
    "# LSA (SVD) to 3D\n",
    "lsa = TruncatedSVD(n_components=3, random_state=42)\n",
    "lsa_result = lsa.fit_transform(mock_embeddings)\n",
    "\n",
    "# t-SNE to 3D\n",
    "tsne = TSNE(n_components=3, random_state=42, perplexity=5, init='pca')\n",
    "tsne_result = tsne.fit_transform(mock_embeddings)\n",
    "\n",
    "# Step 6: Clustering (on UMAP-reduced data for consistency)\n",
    "results = {}\n",
    "\n",
    "# MiniBatch KMeans\n",
    "kmeans = MiniBatchKMeans(n_clusters=3, random_state=42)\n",
    "kmeans_labels = kmeans.fit_predict(umap_result)\n",
    "results['kmeans'] = {\n",
    "    'labels': kmeans_labels,\n",
    "    'silhouette': silhouette_score(umap_result, kmeans_labels)\n",
    "}\n",
    "\n",
    "# DBSCAN\n",
    "dbscan = DBSCAN(eps=0.5, min_samples=2)\n",
    "dbscan_labels = dbscan.fit_predict(umap_result)\n",
    "# Filter out noise points (-1) before calculating silhouette\n",
    "if len(set(dbscan_labels)) > 1 and -1 not in dbscan_labels:\n",
    "    dbscan_silhouette = silhouette_score(umap_result, dbscan_labels)\n",
    "else:\n",
    "    dbscan_silhouette = None\n",
    "results['dbscan'] = {\n",
    "    'labels': dbscan_labels,\n",
    "    'silhouette': dbscan_silhouette\n",
    "}\n",
    "\n",
    "# Spectral Clustering\n",
    "# spectral = SpectralClustering(n_clusters=3, affinity='nearest_neighbors', random_state=42)\n",
    "# spectral_labels = spectral.fit_predict(umap_result)\n",
    "# results['spectral'] = {\n",
    "#     'labels': spectral_labels,\n",
    "#     'silhouette': silhouette_score(umap_result, spectral_labels)\n",
    "# }\n",
    "\n",
    "results\n"
   ]
  },
  {
   "cell_type": "code",
   "execution_count": 8,
   "metadata": {},
   "outputs": [
    {
     "data": {
      "text/plain": [
       "{'kmeans_lsa': {'labels': array([2, 2, 2, ..., 0, 1, 2], dtype=int32),\n",
       "  'silhouette': 0.2100656583744637},\n",
       " 'dbscan_lsa': {'labels': array([0, 0, 0, ..., 0, 0, 0]), 'silhouette': None}}"
      ]
     },
     "execution_count": 8,
     "metadata": {},
     "output_type": "execute_result"
    }
   ],
   "source": [
    "# Re-simulate GloVe-like sentence embeddings (100d vectors)\n",
    "np.random.seed(42)\n",
    "mock_embeddings = np.random.rand(len(data_subset), 100)\n",
    "\n",
    "# LSA (SVD) to 3D\n",
    "lsa = TruncatedSVD(n_components=3, random_state=42)\n",
    "lsa_result = lsa.fit_transform(mock_embeddings)\n",
    "\n",
    "# t-SNE to 3D\n",
    "tsne = TSNE(n_components=3, random_state=42, perplexity=5, init='pca')\n",
    "tsne_result = tsne.fit_transform(mock_embeddings)\n",
    "\n",
    "# Clustering on LSA-reduced data\n",
    "results_revised = {}\n",
    "\n",
    "# MiniBatch KMeans\n",
    "kmeans_lsa = MiniBatchKMeans(n_clusters=3, random_state=42)\n",
    "kmeans_labels = kmeans_lsa.fit_predict(lsa_result)\n",
    "results_revised['kmeans_lsa'] = {\n",
    "    'labels': kmeans_labels,\n",
    "    'silhouette': silhouette_score(lsa_result, kmeans_labels)\n",
    "}\n",
    "\n",
    "# DBSCAN\n",
    "dbscan_lsa = DBSCAN(eps=0.5, min_samples=2)\n",
    "dbscan_labels = dbscan_lsa.fit_predict(lsa_result)\n",
    "if len(set(dbscan_labels)) > 1 and -1 not in dbscan_labels:\n",
    "    dbscan_silhouette = silhouette_score(lsa_result, dbscan_labels)\n",
    "else:\n",
    "    dbscan_silhouette = None\n",
    "results_revised['dbscan_lsa'] = {\n",
    "    'labels': dbscan_labels,\n",
    "    'silhouette': dbscan_silhouette\n",
    "}\n",
    "\n",
    "# Spectral Clustering\n",
    "# spectral_lsa = SpectralClustering(n_clusters=3, affinity='nearest_neighbors', random_state=42)\n",
    "# spectral_labels = spectral_lsa.fit_predict(lsa_result)\n",
    "# results_revised['spectral_lsa'] = {\n",
    "#     'labels': spectral_labels,\n",
    "#     'silhouette': silhouette_score(lsa_result, spectral_labels)\n",
    "# }\n",
    "\n",
    "results_revised\n"
   ]
  },
  {
   "cell_type": "code",
   "execution_count": 12,
   "metadata": {},
   "outputs": [
    {
     "data": {
      "text/html": [
       "<div>\n",
       "<style scoped>\n",
       "    .dataframe tbody tr th:only-of-type {\n",
       "        vertical-align: middle;\n",
       "    }\n",
       "\n",
       "    .dataframe tbody tr th {\n",
       "        vertical-align: top;\n",
       "    }\n",
       "\n",
       "    .dataframe thead th {\n",
       "        text-align: right;\n",
       "    }\n",
       "</style>\n",
       "<table border=\"1\" class=\"dataframe\">\n",
       "  <thead>\n",
       "    <tr style=\"text-align: right;\">\n",
       "      <th></th>\n",
       "      <th>Clustering Method</th>\n",
       "      <th>Silhouette Score (LSA)</th>\n",
       "    </tr>\n",
       "  </thead>\n",
       "  <tbody>\n",
       "    <tr>\n",
       "      <th>0</th>\n",
       "      <td>MiniBatch KMeans</td>\n",
       "      <td>0.210066</td>\n",
       "    </tr>\n",
       "    <tr>\n",
       "      <th>1</th>\n",
       "      <td>DBSCAN</td>\n",
       "      <td>NaN</td>\n",
       "    </tr>\n",
       "  </tbody>\n",
       "</table>\n",
       "</div>"
      ],
      "text/plain": [
       "  Clustering Method  Silhouette Score (LSA)\n",
       "0  MiniBatch KMeans                0.210066\n",
       "1            DBSCAN                     NaN"
      ]
     },
     "execution_count": 12,
     "metadata": {},
     "output_type": "execute_result"
    }
   ],
   "source": [
    "import pandas as pd\n",
    "\n",
    "# Collect clustering performance results\n",
    "evaluation_summary = pd.DataFrame({\n",
    "    # \"Clustering Method\": [\"MiniBatch KMeans\", \"DBSCAN\", \"Spectral Clustering\"],\n",
    "    \"Clustering Method\": [\"MiniBatch KMeans\", \"DBSCAN\"],\n",
    "    \"Silhouette Score (LSA)\": [\n",
    "        results_revised['kmeans_lsa']['silhouette'],\n",
    "        results_revised['dbscan_lsa']['silhouette'],\n",
    "        # results_revised['spectral_lsa']['silhouette']\n",
    "    ]\n",
    "})\n",
    "\n",
    "\n",
    "evaluation_summary\n"
   ]
  },
  {
   "cell_type": "code",
   "execution_count": 14,
   "metadata": {},
   "outputs": [
    {
     "data": {
      "text/html": [
       "<div>\n",
       "<style scoped>\n",
       "    .dataframe tbody tr th:only-of-type {\n",
       "        vertical-align: middle;\n",
       "    }\n",
       "\n",
       "    .dataframe tbody tr th {\n",
       "        vertical-align: top;\n",
       "    }\n",
       "\n",
       "    .dataframe thead th {\n",
       "        text-align: right;\n",
       "    }\n",
       "</style>\n",
       "<table border=\"1\" class=\"dataframe\">\n",
       "  <thead>\n",
       "    <tr style=\"text-align: right;\">\n",
       "      <th></th>\n",
       "      <th>Clustering Method</th>\n",
       "      <th>Silhouette Score (LSA)</th>\n",
       "    </tr>\n",
       "  </thead>\n",
       "  <tbody>\n",
       "    <tr>\n",
       "      <th>0</th>\n",
       "      <td>MiniBatch KMeans</td>\n",
       "      <td>0.210066</td>\n",
       "    </tr>\n",
       "    <tr>\n",
       "      <th>1</th>\n",
       "      <td>DBSCAN</td>\n",
       "      <td>NaN</td>\n",
       "    </tr>\n",
       "  </tbody>\n",
       "</table>\n",
       "</div>"
      ],
      "text/plain": [
       "  Clustering Method  Silhouette Score (LSA)\n",
       "0  MiniBatch KMeans                0.210066\n",
       "1            DBSCAN                     NaN"
      ]
     },
     "execution_count": 14,
     "metadata": {},
     "output_type": "execute_result"
    }
   ],
   "source": [
    "# Redefine results_revised (in case lost due to interruption)\n",
    "from sklearn.cluster import MiniBatchKMeans, DBSCAN, SpectralClustering\n",
    "from sklearn.metrics import silhouette_score\n",
    "\n",
    "# Redefine mock_embeddings\n",
    "np.random.seed(42)\n",
    "mock_embeddings = np.random.rand(len(data_subset), 100)\n",
    "\n",
    "# Dimensionality reduction using SVD (LSA)\n",
    "lsa = TruncatedSVD(n_components=3, random_state=42)\n",
    "lsa_result = lsa.fit_transform(mock_embeddings)\n",
    "\n",
    "# Clustering results storage\n",
    "results_revised = {}\n",
    "\n",
    "# MiniBatch KMeans\n",
    "kmeans_lsa = MiniBatchKMeans(n_clusters=3, random_state=42)\n",
    "kmeans_labels = kmeans_lsa.fit_predict(lsa_result)\n",
    "results_revised['kmeans_lsa'] = {\n",
    "    'labels': kmeans_labels,\n",
    "    'silhouette': silhouette_score(lsa_result, kmeans_labels)\n",
    "}\n",
    "\n",
    "# DBSCAN\n",
    "dbscan_lsa = DBSCAN(eps=0.5, min_samples=2)\n",
    "dbscan_labels = dbscan_lsa.fit_predict(lsa_result)\n",
    "if len(set(dbscan_labels)) > 1 and -1 not in dbscan_labels:\n",
    "    dbscan_silhouette = silhouette_score(lsa_result, dbscan_labels)\n",
    "else:\n",
    "    dbscan_silhouette = None\n",
    "results_revised['dbscan_lsa'] = {\n",
    "    'labels': dbscan_labels,\n",
    "    'silhouette': dbscan_silhouette\n",
    "}\n",
    "\n",
    "# Spectral Clustering\n",
    "# spectral_lsa = SpectralClustering(n_clusters=3, affinity='nearest_neighbors', random_state=42)\n",
    "# spectral_labels = spectral_lsa.fit_predict(lsa_result)\n",
    "# results_revised['spectral_lsa'] = {\n",
    "#     'labels': spectral_labels,\n",
    "#     'silhouette': silhouette_score(lsa_result, spectral_labels)\n",
    "# }\n",
    "\n",
    "# Create summary table\n",
    "evaluation_summary = pd.DataFrame({\n",
    "    \"Clustering Method\": [\"MiniBatch KMeans\", \"DBSCAN\"],\n",
    "    \"Silhouette Score (LSA)\": [\n",
    "        results_revised['kmeans_lsa']['silhouette'],\n",
    "        results_revised['dbscan_lsa']['silhouette'],\n",
    "        # results_revised['spectral_lsa']['silhouette']\n",
    "    ]\n",
    "})\n",
    "\n",
    "# import ace_tools as tools; tools.display_dataframe_to_user(name=\"Clustering Evaluation Summary\", dataframe=evaluation_summary)\n",
    "evaluation_summary"
   ]
  },
  {
   "cell_type": "code",
   "execution_count": null,
   "metadata": {},
   "outputs": [],
   "source": []
  }
 ],
 "metadata": {
  "kernelspec": {
   "display_name": "Python 3",
   "language": "python",
   "name": "python3"
  },
  "language_info": {
   "codemirror_mode": {
    "name": "ipython",
    "version": 3
   },
   "file_extension": ".py",
   "mimetype": "text/x-python",
   "name": "python",
   "nbconvert_exporter": "python",
   "pygments_lexer": "ipython3",
   "version": "3.9.6"
  }
 },
 "nbformat": 4,
 "nbformat_minor": 2
}
